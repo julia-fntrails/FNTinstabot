{
 "cells": [
  {
   "cell_type": "code",
   "execution_count": 1,
   "metadata": {},
   "outputs": [
    {
     "ename": "SyntaxError",
     "evalue": "invalid syntax (<ipython-input-1-83166fb1ff82>, line 1)",
     "output_type": "error",
     "traceback": [
      "\u001b[0;36m  File \u001b[0;32m\"<ipython-input-1-83166fb1ff82>\"\u001b[0;36m, line \u001b[0;32m1\u001b[0m\n\u001b[0;31m    git remote add origin https://github.com/julia-fntrails/FNTinstabot.git\u001b[0m\n\u001b[0m        ^\u001b[0m\n\u001b[0;31mSyntaxError\u001b[0m\u001b[0;31m:\u001b[0m invalid syntax\n"
     ]
    }
   ],
   "source": [
    "git remote add origin https://github.com/julia-fntrails/FNTinstabot.git\n",
    "git branch -M main\n",
    "git push -u origin main"
   ]
  },
  {
   "cell_type": "code",
   "execution_count": 2,
   "metadata": {},
   "outputs": [
    {
     "name": "stderr",
     "output_type": "stream",
     "text": [
      "INFO [2020-12-16 11:43:05] [fntrails]  Workspace in use: \"/Users/Julia/InstaPy\"\n"
     ]
    },
    {
     "name": "stdout",
     "output_type": "stream",
     "text": [
      "InstaPy Version: 0.6.12\n",
      " ._.  ._.  ._.  ._.  ._.  ._.  ._.  ._.  ._.  ._.  ._.  ._.  ._.  ._.  ._.  ._. \n"
     ]
    },
    {
     "name": "stderr",
     "output_type": "stream",
     "text": [
      "INFO [2020-12-16 11:43:10] [fntrails]  Session started!\n",
      "INFO [2020-12-16 11:43:10] [fntrails]  -- Connection Checklist [1/2] (Internet Connection Status)\n"
     ]
    },
    {
     "name": "stdout",
     "output_type": "stream",
     "text": [
      "OOOOOOOOOOOOOOOOOOOOOOOOOOOOOOOOOOOOOOOOOOOOOOOOOOOOOO\n",
      "oooooooooooooooooooooooooooooooooooooooooooooooooooooo\n"
     ]
    },
    {
     "name": "stderr",
     "output_type": "stream",
     "text": [
      "INFO [2020-12-16 11:43:10] [fntrails]  - Internet Connection Status: ok\n",
      "INFO [2020-12-16 11:43:10] [fntrails]  - Current IP is \"128.119.202.55\" and it's from \"United States/US\"\n",
      "INFO [2020-12-16 11:43:10] [fntrails]  -- Connection Checklist [2/2] (Hide Selenium Extension)\n",
      "INFO [2020-12-16 11:43:10] [fntrails]  - window.navigator.webdriver response: None\n",
      "INFO [2020-12-16 11:43:10] [fntrails]  - Hide Selenium Extension: ok\n",
      "INFO [2020-12-16 11:43:27] [fntrails]  Logged in successfully!\n",
      "INFO [2020-12-16 11:43:27] [fntrails]  Saving account progress...\n"
     ]
    },
    {
     "name": "stdout",
     "output_type": "stream",
     "text": [
      "..............................................................\n",
      "''''''''''''''''''''''''''''''''''''''''''''''''''''''''''''''\n"
     ]
    },
    {
     "name": "stderr",
     "output_type": "stream",
     "text": [
      "INFO [2020-12-16 11:43:49] [fntrails]  Total of links feched for analysis: 9\n",
      "INFO [2020-12-16 11:43:49] [fntrails]  ~~~~~~~~~~~~~~~~~~~~~~~~~~~\n",
      "INFO [2020-12-16 11:43:49] [fntrails]  ~~~~~~~~~~~~~~~~~~~~~~~~~~~\n",
      "INFO [2020-12-16 11:43:49] [fntrails]  New link found...\n",
      "INFO [2020-12-16 11:43:49] [fntrails]  [0 posts liked /10 amount]\n",
      "INFO [2020-12-16 11:43:49] [fntrails]  https://www.instagram.com/p/CI1Rjq3BzPP/\n"
     ]
    },
    {
     "name": "stdout",
     "output_type": "stream",
     "text": [
      "0 https://www.instagram.com/p/CI1Rjq3BzPP/\n",
      "1 https://www.instagram.com/p/CI0yLfrBgyj/\n",
      "2 https://www.instagram.com/p/CI16_pkA-0n/\n",
      "3 https://www.instagram.com/p/CI1qd-UhW-3/\n",
      "4 https://www.instagram.com/p/CI0iyCJLGkx/\n",
      "5 https://www.instagram.com/p/CI084APh3yj/\n",
      "6 https://www.instagram.com/p/CIzXb6egrXv/\n",
      "7 https://www.instagram.com/p/CI0mHzhBeC6/\n",
      "8 https://www.instagram.com/p/CI1_7UwM-pe/\n"
     ]
    },
    {
     "name": "stderr",
     "output_type": "stream",
     "text": [
      "INFO [2020-12-16 11:43:52] [fntrails]  Image from: b'massdcr'\n",
      "INFO [2020-12-16 11:43:52] [fntrails]  Link: b'https://www.instagram.com/p/CI1Rjq3BzPP/'\n",
      "INFO [2020-12-16 11:43:52] [fntrails]  Description: b'For this #TidbitTuesday the @MassDCR Office of Cultural Resources invites you to celebrate the 100th anniversary of Dunn State Park in Gardner being available for the public to enjoy!\\n\\nWhile the property officially became a state park in 1983, it had been open to the public since 1920 when it was managed by the City of Gardner Park Commission. John Ainsworth Dunn (1831-1919), a successful chair manufacturer in Gardner, began purchasing the land in this area in 1896, with the intent of establishing a park. He gave the property to the City of Gardner in his will. \\n\\nThe park is now known for its swimming and fishing in the warmer months and hiking year-round! Check the link in our bio for a trail map and remember when visiting any state park or property be sure to wear a face-covering and maintain good social distancing from others! #centenial #gardnerma #dunnpond #statepark #getoutdoors'\n",
      "INFO [2020-12-16 11:43:52] [fntrails]  Location: b'Dunn State Park'\n",
      "INFO [2020-12-16 11:44:52] [fntrails]  --> Image liked!\n",
      "INFO [2020-12-16 11:44:56] [fntrails]  --> Not commented\n",
      "INFO [2020-12-16 11:44:57] [fntrails]  --> Not following\n",
      "INFO [2020-12-16 11:44:58] [fntrails]  --> User gonna be interacted: 'massdcr'\n",
      "INFO [2020-12-16 11:44:58] [fntrails]  Username [1/1]\n",
      "INFO [2020-12-16 11:44:58] [fntrails]  --> b'massdcr'\n",
      "INFO [2020-12-16 11:45:27] [fntrails]  Getting massdcr image list...\n",
      "INFO [2020-12-16 11:45:27] [fntrails]  --> Not following\n",
      "INFO [2020-12-16 11:45:28] [fntrails]  User: b'massdcr'\n",
      "INFO [2020-12-16 11:45:28] [fntrails]  Liked: 0\n",
      "INFO [2020-12-16 11:45:28] [fntrails]  Already Liked: 0\n",
      "INFO [2020-12-16 11:45:28] [fntrails]  Commented: 0\n",
      "INFO [2020-12-16 11:45:28] [fntrails]  Inappropriate: 0\n",
      "INFO [2020-12-16 11:45:28] [fntrails]  Not valid users: 0\n",
      "\n",
      "INFO [2020-12-16 11:45:28] [fntrails]  New link found...\n",
      "INFO [2020-12-16 11:45:28] [fntrails]  [1 posts liked /10 amount]\n",
      "INFO [2020-12-16 11:45:28] [fntrails]  https://www.instagram.com/p/CI0yLfrBgyj/\n",
      "INFO [2020-12-16 11:45:31] [fntrails]  Image from: b'413valleyguy'\n",
      "INFO [2020-12-16 11:45:31] [fntrails]  Link: b'https://www.instagram.com/p/CI0yLfrBgyj/'\n",
      "INFO [2020-12-16 11:45:31] [fntrails]  Description: b'Cahoon Hollow Beach in Wellfleet, MA. #cahoonhollowbeach #cahoonhollowwellfleet #wellfleetmassachusetts #chathammassachusetts #falmouthmassachusetts #provincetownmassachusetts #capecod #capecodmassachusetts #newbedfordmassachusetts #fallrivermassachusetts #bostonmassachusetts #cambridgemassachusetts\\xf0\\x9f\\x87\\xba\\xf0\\x9f\\x87\\xb8'\n",
      "INFO [2020-12-16 11:45:31] [fntrails]  Location: b'Easthampton, Massachusetts'\n",
      "INFO [2020-12-16 11:46:31] [fntrails]  --> Image liked!\n",
      "INFO [2020-12-16 11:46:35] [fntrails]  --> Not commented\n",
      "INFO [2020-12-16 11:46:36] [fntrails]  --> Not following\n",
      "INFO [2020-12-16 11:46:37] [fntrails]  --> User gonna be interacted: '413valleyguy'\n",
      "INFO [2020-12-16 11:46:37] [fntrails]  Username [1/1]\n",
      "INFO [2020-12-16 11:46:37] [fntrails]  --> b'413valleyguy'\n",
      "INFO [2020-12-16 11:47:05] [fntrails]  Getting 413valleyguy image list...\n",
      "INFO [2020-12-16 11:47:06] [fntrails]  --> Not following\n",
      "INFO [2020-12-16 11:47:07] [fntrails]  User: b'413valleyguy'\n",
      "INFO [2020-12-16 11:47:07] [fntrails]  Liked: 0\n",
      "INFO [2020-12-16 11:47:07] [fntrails]  Already Liked: 0\n",
      "INFO [2020-12-16 11:47:07] [fntrails]  Commented: 0\n",
      "INFO [2020-12-16 11:47:07] [fntrails]  Inappropriate: 0\n",
      "INFO [2020-12-16 11:47:07] [fntrails]  Not valid users: 0\n",
      "\n",
      "INFO [2020-12-16 11:47:07] [fntrails]  New link found...\n",
      "INFO [2020-12-16 11:47:07] [fntrails]  [2 posts liked /10 amount]\n",
      "INFO [2020-12-16 11:47:07] [fntrails]  https://www.instagram.com/p/CI16_pkA-0n/\n",
      "INFO [2020-12-16 11:47:10] [fntrails]  Image from: b'lauriec1104'\n",
      "INFO [2020-12-16 11:47:10] [fntrails]  Link: b'https://www.instagram.com/p/CI16_pkA-0n/'\n",
      "INFO [2020-12-16 11:47:10] [fntrails]  Description: b'#tuesday #december #elfontheshelf #baking #cookies #reindeer #elves #granddaughters #parkerjean #adalee #alaina #teigan #papapaul #gigi #tistheseason #connecticut \\xf0\\x9f\\x99\\x8f\\xf0\\x9f\\x8f\\xbb\\xf0\\x9f\\x8e\\x84\\xf0\\x9f\\x8e\\x85\\xf0\\x9f\\xa7\\x9d\\xe2\\x80\\x8d\\xe2\\x99\\x80\\xef\\xb8\\x8f Nobody\\xe2\\x80\\x99s listening..... \\xf0\\x9f\\xa4\\xb7\\xf0\\x9f\\x8f\\xbc\\xe2\\x80\\x8d\\xe2\\x99\\x80\\xef\\xb8\\x8f'\n",
      "INFO [2020-12-16 11:47:10] [fntrails]  Location: b'Abro\\xe2\\x80\\x99s Daycare'\n",
      "INFO [2020-12-16 11:48:11] [fntrails]  --> Image liked!\n",
      "INFO [2020-12-16 11:48:16] [fntrails]  --> Not commented\n",
      "INFO [2020-12-16 11:48:17] [fntrails]  --> Not following\n",
      "INFO [2020-12-16 11:48:18] [fntrails]  --> User gonna be interacted: 'lauriec1104'\n",
      "INFO [2020-12-16 11:48:18] [fntrails]  Username [1/1]\n",
      "INFO [2020-12-16 11:48:18] [fntrails]  --> b'lauriec1104'\n",
      "INFO [2020-12-16 11:48:48] [fntrails]  Getting lauriec1104 image list...\n",
      "INFO [2020-12-16 11:48:48] [fntrails]  --> Not following\n",
      "INFO [2020-12-16 11:48:49] [fntrails]  User: b'lauriec1104'\n",
      "INFO [2020-12-16 11:48:49] [fntrails]  Liked: 0\n",
      "INFO [2020-12-16 11:48:49] [fntrails]  Already Liked: 0\n",
      "INFO [2020-12-16 11:48:49] [fntrails]  Commented: 0\n",
      "INFO [2020-12-16 11:48:49] [fntrails]  Inappropriate: 0\n",
      "INFO [2020-12-16 11:48:49] [fntrails]  Not valid users: 0\n",
      "\n",
      "INFO [2020-12-16 11:48:49] [fntrails]  New link found...\n",
      "INFO [2020-12-16 11:48:49] [fntrails]  [3 posts liked /10 amount]\n",
      "INFO [2020-12-16 11:48:49] [fntrails]  https://www.instagram.com/p/CI1qd-UhW-3/\n",
      "INFO [2020-12-16 11:48:52] [fntrails]  Image from: b'413valleyguy'\n",
      "INFO [2020-12-16 11:48:52] [fntrails]  Link: b'https://www.instagram.com/p/CI1qd-UhW-3/'\n",
      "INFO [2020-12-16 11:48:52] [fntrails]  Description: b'Ogunquit, ME at sunrise this morning. #sunrise #sunrisephotography #ogunquitmaine #yorkmaine #portlandmaine #augustamaine #portsmouthnewhampshire #nashuanewhampshire'\n",
      "INFO [2020-12-16 11:48:52] [fntrails]  Location: b'Easthampton, Massachusetts'\n",
      "INFO [2020-12-16 11:49:53] [fntrails]  --> Image liked!\n",
      "INFO [2020-12-16 11:49:58] [fntrails]  --> Not commented\n",
      "INFO [2020-12-16 11:49:59] [fntrails]  --> Not following\n",
      "INFO [2020-12-16 11:50:00] [fntrails]  --> User gonna be interacted: '413valleyguy'\n",
      "INFO [2020-12-16 11:50:00] [fntrails]  Username [1/1]\n",
      "INFO [2020-12-16 11:50:00] [fntrails]  --> b'413valleyguy'\n",
      "INFO [2020-12-16 11:50:29] [fntrails]  Getting 413valleyguy image list...\n",
      "INFO [2020-12-16 11:50:29] [fntrails]  --> Not following\n",
      "INFO [2020-12-16 11:50:30] [fntrails]  User: b'413valleyguy'\n",
      "INFO [2020-12-16 11:50:30] [fntrails]  Liked: 0\n",
      "INFO [2020-12-16 11:50:30] [fntrails]  Already Liked: 0\n",
      "INFO [2020-12-16 11:50:30] [fntrails]  Commented: 0\n",
      "INFO [2020-12-16 11:50:30] [fntrails]  Inappropriate: 0\n",
      "INFO [2020-12-16 11:50:30] [fntrails]  Not valid users: 0\n",
      "\n",
      "INFO [2020-12-16 11:50:30] [fntrails]  New link found...\n",
      "INFO [2020-12-16 11:50:30] [fntrails]  [4 posts liked /10 amount]\n",
      "INFO [2020-12-16 11:50:30] [fntrails]  https://www.instagram.com/p/CI0iyCJLGkx/\n",
      "INFO [2020-12-16 11:50:33] [fntrails]  Image from: b'massbike'\n",
      "INFO [2020-12-16 11:50:33] [fntrails]  Link: b'https://www.instagram.com/p/CI0iyCJLGkx/'\n",
      "INFO [2020-12-16 11:50:33] [fntrails]  Description: b\"MA Senator, 2nd Suffolk and Middlesex District, Will Brownsberger joined MassBike's annual meeting to discuss his work to make our streets safer for all bicyclists. Watch his keynote on our youtube now. Link in our bio.\"\n",
      "INFO [2020-12-16 11:51:32] [fntrails]  --> Image liked!\n",
      "INFO [2020-12-16 11:51:36] [fntrails]  --> Not commented\n",
      "INFO [2020-12-16 11:51:37] [fntrails]  --> Not following\n",
      "INFO [2020-12-16 11:51:37] [fntrails]  --> User gonna be interacted: 'massbike'\n",
      "INFO [2020-12-16 11:51:37] [fntrails]  Username [1/1]\n",
      "INFO [2020-12-16 11:51:37] [fntrails]  --> b'massbike'\n",
      "INFO [2020-12-16 11:52:06] [fntrails]  Getting massbike image list...\n",
      "INFO [2020-12-16 11:52:06] [fntrails]  --> Not following\n",
      "INFO [2020-12-16 11:52:07] [fntrails]  User: b'massbike'\n",
      "INFO [2020-12-16 11:52:07] [fntrails]  Liked: 0\n",
      "INFO [2020-12-16 11:52:07] [fntrails]  Already Liked: 0\n",
      "INFO [2020-12-16 11:52:07] [fntrails]  Commented: 0\n",
      "INFO [2020-12-16 11:52:07] [fntrails]  Inappropriate: 0\n"
     ]
    },
    {
     "name": "stderr",
     "output_type": "stream",
     "text": [
      "INFO [2020-12-16 11:52:07] [fntrails]  Not valid users: 0\n",
      "\n",
      "INFO [2020-12-16 11:52:07] [fntrails]  New link found...\n",
      "INFO [2020-12-16 11:52:07] [fntrails]  [5 posts liked /10 amount]\n",
      "INFO [2020-12-16 11:52:07] [fntrails]  https://www.instagram.com/p/CI084APh3yj/\n",
      "INFO [2020-12-16 11:52:10] [fntrails]  Image from: b'413valleyguy'\n",
      "INFO [2020-12-16 11:52:10] [fntrails]  Link: b'https://www.instagram.com/p/CI084APh3yj/'\n",
      "INFO [2020-12-16 11:52:10] [fntrails]  Description: b'Shell Beach in Guilford, CT at sunset Sunday evening. #sunset #sunsetphotography #shellbeach #shellbeachguilford #guilfordconnecticut #newlondonconnecticut #newhavenconnecticut'\n",
      "INFO [2020-12-16 11:52:10] [fntrails]  Location: b'Easthampton, Massachusetts'\n",
      "INFO [2020-12-16 11:53:10] [fntrails]  --> Image liked!\n",
      "INFO [2020-12-16 11:53:16] [fntrails]  --> Not commented\n",
      "INFO [2020-12-16 11:53:17] [fntrails]  --> Not following\n",
      "INFO [2020-12-16 11:53:18] [fntrails]  --> User gonna be interacted: '413valleyguy'\n",
      "INFO [2020-12-16 11:53:18] [fntrails]  Username [1/1]\n",
      "INFO [2020-12-16 11:53:18] [fntrails]  --> b'413valleyguy'\n",
      "INFO [2020-12-16 11:53:47] [fntrails]  Getting 413valleyguy image list...\n",
      "INFO [2020-12-16 11:53:47] [fntrails]  --> Not following\n",
      "INFO [2020-12-16 11:53:48] [fntrails]  User: b'413valleyguy'\n",
      "INFO [2020-12-16 11:53:48] [fntrails]  Liked: 0\n",
      "INFO [2020-12-16 11:53:48] [fntrails]  Already Liked: 0\n",
      "INFO [2020-12-16 11:53:48] [fntrails]  Commented: 0\n",
      "INFO [2020-12-16 11:53:48] [fntrails]  Inappropriate: 0\n",
      "INFO [2020-12-16 11:53:48] [fntrails]  Not valid users: 0\n",
      "\n",
      "WARNING [2020-12-16 11:53:48] [fntrails]  Post Randomly Skipped...\n",
      "\n",
      "INFO [2020-12-16 11:53:48] [fntrails]  New link found...\n",
      "INFO [2020-12-16 11:53:48] [fntrails]  [6 posts liked /10 amount]\n",
      "INFO [2020-12-16 11:53:48] [fntrails]  https://www.instagram.com/p/CI0mHzhBeC6/\n",
      "INFO [2020-12-16 11:53:51] [fntrails]  Image from: b'413valleyguy'\n",
      "INFO [2020-12-16 11:53:51] [fntrails]  Link: b'https://www.instagram.com/p/CI0mHzhBeC6/'\n",
      "INFO [2020-12-16 11:53:51] [fntrails]  Description: b'Warner Lake in North Hadley, MA. #warnerlake #northhadleymassachusetts #hadleymassachusetts #amherstmassachusetts #sunderlandmassachusetts #southdeerfieldmassachusetts #deerfieldmassachusetts #greenfieldmassachusetts #northamptonmassachusetts #easthamptonmassachusetts #mohawktrail #fivecollegearea'\n",
      "INFO [2020-12-16 11:53:51] [fntrails]  Location: b'Easthampton, Massachusetts'\n",
      "INFO [2020-12-16 11:54:51] [fntrails]  --> Image liked!\n",
      "INFO [2020-12-16 11:54:55] [fntrails]  --> Not commented\n",
      "INFO [2020-12-16 11:54:56] [fntrails]  --> Not following\n",
      "INFO [2020-12-16 11:54:57] [fntrails]  --> User gonna be interacted: '413valleyguy'\n",
      "INFO [2020-12-16 11:54:57] [fntrails]  Username [1/1]\n",
      "INFO [2020-12-16 11:54:57] [fntrails]  --> b'413valleyguy'\n",
      "INFO [2020-12-16 11:55:26] [fntrails]  Getting 413valleyguy image list...\n",
      "INFO [2020-12-16 11:55:26] [fntrails]  --> Not following\n",
      "INFO [2020-12-16 11:55:27] [fntrails]  User: b'413valleyguy'\n",
      "INFO [2020-12-16 11:55:27] [fntrails]  Liked: 0\n",
      "INFO [2020-12-16 11:55:27] [fntrails]  Already Liked: 0\n",
      "INFO [2020-12-16 11:55:27] [fntrails]  Commented: 0\n",
      "INFO [2020-12-16 11:55:27] [fntrails]  Inappropriate: 0\n",
      "INFO [2020-12-16 11:55:27] [fntrails]  Not valid users: 0\n",
      "\n",
      "WARNING [2020-12-16 11:55:27] [fntrails]  Post Randomly Skipped...\n",
      "\n",
      "INFO [2020-12-16 11:55:35] [fntrails]  Total of links feched for analysis: 8\n",
      "INFO [2020-12-16 11:55:35] [fntrails]  ~~~~~~~~~~~~~~~~~~~~~~~~~~~\n",
      "INFO [2020-12-16 11:55:35] [fntrails]  ~~~~~~~~~~~~~~~~~~~~~~~~~~~\n",
      "INFO [2020-12-16 11:55:35] [fntrails]  New link found...\n",
      "INFO [2020-12-16 11:55:35] [fntrails]  [7 posts liked /10 amount]\n",
      "INFO [2020-12-16 11:55:35] [fntrails]  https://www.instagram.com/p/CI1s3wQB0hD/\n"
     ]
    },
    {
     "name": "stdout",
     "output_type": "stream",
     "text": [
      "0 https://www.instagram.com/p/CI1s3wQB0hD/\n",
      "1 https://www.instagram.com/p/CI23QY_MaJU/\n",
      "2 https://www.instagram.com/p/CI1x6ttBLvx/\n",
      "3 https://www.instagram.com/p/CI0iNIyjsEH/\n",
      "4 https://www.instagram.com/p/CI3RsUVhDJ2/\n",
      "5 https://www.instagram.com/p/CI1xqPNhGbJ/\n",
      "6 https://www.instagram.com/p/CI1rNdkBNwj/\n",
      "7 https://www.instagram.com/p/CI09gPDhvYS/\n"
     ]
    },
    {
     "name": "stderr",
     "output_type": "stream",
     "text": [
      "INFO [2020-12-16 11:55:38] [fntrails]  Image from: b'413valleyguy'\n",
      "INFO [2020-12-16 11:55:38] [fntrails]  Link: b'https://www.instagram.com/p/CI1s3wQB0hD/'\n",
      "INFO [2020-12-16 11:55:38] [fntrails]  Description: b'Waschusetts Reservoir in Sterling, MA at sunset this evening. #sunset #sunsetphotography #waschusettsreservoir #waschusettsstatereservation #waschusettsmountain #sterlingmassachusetts #clintonmassachusetts #lancastermassachusetts #boylstonmassachusetts #westboylstonmassachusetts #fitchburgmassachusetts #leominstermassachusetts #worcestermassachusetts #bostonmassachusetts #cambridgemassachusetts\\xf0\\x9f\\x87\\xba\\xf0\\x9f\\x87\\xb8 #mohawktrail #worcesterhills'\n",
      "INFO [2020-12-16 11:55:38] [fntrails]  Location: b'Easthampton, Massachusetts'\n",
      "INFO [2020-12-16 11:56:37] [fntrails]  --> Image liked!\n",
      "INFO [2020-12-16 11:56:41] [fntrails]  --> Not commented\n",
      "INFO [2020-12-16 11:56:42] [fntrails]  --> Not following\n",
      "INFO [2020-12-16 11:56:43] [fntrails]  --> User gonna be interacted: '413valleyguy'\n",
      "INFO [2020-12-16 11:56:43] [fntrails]  Username [1/1]\n",
      "INFO [2020-12-16 11:56:43] [fntrails]  --> b'413valleyguy'\n",
      "INFO [2020-12-16 11:57:11] [fntrails]  Getting 413valleyguy image list...\n",
      "INFO [2020-12-16 11:57:11] [fntrails]  --> Not following\n",
      "INFO [2020-12-16 11:57:12] [fntrails]  User: b'413valleyguy'\n",
      "INFO [2020-12-16 11:57:12] [fntrails]  Liked: 0\n",
      "INFO [2020-12-16 11:57:12] [fntrails]  Already Liked: 0\n",
      "INFO [2020-12-16 11:57:12] [fntrails]  Commented: 0\n",
      "INFO [2020-12-16 11:57:12] [fntrails]  Inappropriate: 0\n",
      "INFO [2020-12-16 11:57:12] [fntrails]  Not valid users: 0\n",
      "\n",
      "INFO [2020-12-16 11:57:12] [fntrails]  New link found...\n",
      "INFO [2020-12-16 11:57:12] [fntrails]  [8 posts liked /10 amount]\n",
      "INFO [2020-12-16 11:57:12] [fntrails]  https://www.instagram.com/p/CI23QY_MaJU/\n",
      "INFO [2020-12-16 11:57:16] [fntrails]  Image from: b'natgeo'\n",
      "INFO [2020-12-16 11:57:16] [fntrails]  Link: b'https://www.instagram.com/p/CI23QY_MaJU/'\n",
      "INFO [2020-12-16 11:57:16] [fntrails]  Description: b'Photo by @paolowoods / The Ti-Chinwa (Little Chinese) gang, photographed in a shelter donated to the impoverished Cit\\xc3\\xa9 Soleil neighborhood by an international NGO but subsequently seized by the gang. Gang activity is raging out of control in the Haitian capital, Port au Prince, with abductions, kidnappings for ransom, and warfare among gangs for control of territory. Often gang members are minors or even teenagers.'\n",
      "INFO [2020-12-16 11:58:17] [fntrails]  --> Image liked!\n",
      "INFO [2020-12-16 11:58:21] [fntrails]  --> Not commented\n",
      "INFO [2020-12-16 11:58:22] [fntrails]  --> Not following\n",
      "INFO [2020-12-16 11:58:23] [fntrails]  --> User gonna be interacted: 'natgeo'\n",
      "INFO [2020-12-16 11:58:23] [fntrails]  Username [1/1]\n",
      "INFO [2020-12-16 11:58:23] [fntrails]  --> b'natgeo'\n",
      "INFO [2020-12-16 11:58:53] [fntrails]  Getting natgeo image list...\n",
      "INFO [2020-12-16 11:58:53] [fntrails]  --> Not following\n",
      "INFO [2020-12-16 11:58:54] [fntrails]  User: b'natgeo'\n",
      "INFO [2020-12-16 11:58:54] [fntrails]  Liked: 0\n",
      "INFO [2020-12-16 11:58:54] [fntrails]  Already Liked: 0\n",
      "INFO [2020-12-16 11:58:54] [fntrails]  Commented: 0\n",
      "INFO [2020-12-16 11:58:54] [fntrails]  Inappropriate: 0\n",
      "INFO [2020-12-16 11:58:54] [fntrails]  Not valid users: 0\n",
      "\n",
      "WARNING [2020-12-16 11:58:54] [fntrails]  Post Randomly Skipped...\n",
      "\n",
      "WARNING [2020-12-16 11:58:54] [fntrails]  Post Randomly Skipped...\n",
      "\n",
      "WARNING [2020-12-16 11:58:54] [fntrails]  Post Randomly Skipped...\n",
      "\n",
      "INFO [2020-12-16 11:58:54] [fntrails]  New link found...\n",
      "INFO [2020-12-16 11:58:54] [fntrails]  [9 posts liked /10 amount]\n",
      "INFO [2020-12-16 11:58:54] [fntrails]  https://www.instagram.com/p/CI1xqPNhGbJ/\n",
      "INFO [2020-12-16 11:58:56] [fntrails]  Image from: b'413valleyguy'\n",
      "INFO [2020-12-16 11:58:56] [fntrails]  Link: b'https://www.instagram.com/p/CI1xqPNhGbJ/'\n",
      "INFO [2020-12-16 11:58:56] [fntrails]  Description: b'Wallagrass, ME this morning. #wallagrassmaine #cariboumaine #presqueislemaine #barharbormaine #bangormaine'\n",
      "INFO [2020-12-16 11:58:56] [fntrails]  Location: b'Easthampton, Massachusetts'\n",
      "INFO [2020-12-16 11:59:57] [fntrails]  --> Image liked!\n",
      "INFO [2020-12-16 12:00:01] [fntrails]  --> Not commented\n",
      "INFO [2020-12-16 12:00:02] [fntrails]  --> Not following\n",
      "INFO [2020-12-16 12:00:03] [fntrails]  --> User gonna be interacted: '413valleyguy'\n",
      "INFO [2020-12-16 12:00:03] [fntrails]  Username [1/1]\n",
      "INFO [2020-12-16 12:00:03] [fntrails]  --> b'413valleyguy'\n",
      "INFO [2020-12-16 12:00:32] [fntrails]  Getting 413valleyguy image list...\n",
      "INFO [2020-12-16 12:00:32] [fntrails]  --> Not following\n",
      "INFO [2020-12-16 12:00:33] [fntrails]  User: b'413valleyguy'\n",
      "INFO [2020-12-16 12:00:33] [fntrails]  Liked: 0\n",
      "INFO [2020-12-16 12:00:33] [fntrails]  Already Liked: 0\n",
      "INFO [2020-12-16 12:00:33] [fntrails]  Commented: 0\n",
      "INFO [2020-12-16 12:00:33] [fntrails]  Inappropriate: 0\n",
      "INFO [2020-12-16 12:00:33] [fntrails]  Not valid users: 0\n",
      "\n",
      "INFO [2020-12-16 12:00:33] [fntrails]  Liked: 10\n",
      "INFO [2020-12-16 12:00:33] [fntrails]  Already Liked: 0\n",
      "INFO [2020-12-16 12:00:33] [fntrails]  Commented: 0\n",
      "INFO [2020-12-16 12:00:33] [fntrails]  Followed: 0\n",
      "INFO [2020-12-16 12:00:33] [fntrails]  Inappropriate: 0\n",
      "INFO [2020-12-16 12:00:33] [fntrails]  Not valid users: 0\n",
      "INFO [2020-12-16 12:00:33] [fntrails]  Randomly Skipped: 5\n",
      "\n"
     ]
    },
    {
     "data": {
      "text/plain": [
       "<instapy.instapy.InstaPy at 0x7fca0b9291c0>"
      ]
     },
     "execution_count": 2,
     "metadata": {},
     "output_type": "execute_result"
    }
   ],
   "source": [
    "#likes all the pics in our feed\n",
    "\n",
    "#!pip install instapy\n",
    "from instapy import InstaPy\n",
    "\n",
    "session = InstaPy(username=\"fntrails\", password=\"b1k3z99\")\n",
    "session.login()\n",
    "session.like_by_feed(amount=10, randomize=True, unfollow=False, interact=True)\n",
    "#interact=True visits the author's profile page of a certain post and likes a given\n",
    "# number of their pictures, then returns to feed\n",
    "\n",
    "\n"
   ]
  },
  {
   "cell_type": "code",
   "execution_count": null,
   "metadata": {},
   "outputs": [],
   "source": [
    "#likes pics in the \"Norwottuck rail trail bridge\" location tag\n",
    "\n",
    "#!pip install instapy\n",
    "from instapy import InstaPy\n",
    "\n",
    "session = InstaPy(username=\"fntrails\", password=\"b1k3z99\")\n",
    "session.login()\n",
    "session.like_by_locations(['3043306/norwottuck-rail-trail-bridge/'], amount=100, skip_top_posts=True)"
   ]
  },
  {
   "cell_type": "code",
   "execution_count": null,
   "metadata": {},
   "outputs": [],
   "source": [
    "#unfollows users that don't follow us back\n",
    "\n",
    "#!pip install instapy\n",
    "from instapy import InstaPy\n",
    "\n",
    "session = InstaPy(username=\"fntrails\", password=\"b1k3z99\")\n",
    "session.login()\n",
    "session.unfollow_users(amount=10, nonFollowers=True, style=\"RANDOM\", unfollow_after=42*60*60, sleep_delay=655)"
   ]
  },
  {
   "cell_type": "code",
   "execution_count": null,
   "metadata": {},
   "outputs": [],
   "source": [
    "#watches stories of people we follow\n",
    "\n",
    "#!pip install instapy\n",
    "from instapy import InstaPy\n",
    "\n",
    "session = InstaPy(username=\"fntrails\", password=\"b1k3z99\")\n",
    "session.login()\n",
    "session.set_do_story(enabled = True, percentage = 30, simulate = False, sleep_delay=60)\n",
    "#simulate: If set to True InstaPy will simulate watching the stories (you won't see it in the browser)"
   ]
  },
  {
   "cell_type": "code",
   "execution_count": null,
   "metadata": {},
   "outputs": [
    {
     "name": "stdout",
     "output_type": "stream",
     "text": [
      "InstaPy Version: 0.6.12\n",
      " ._.  ._.  ._.  ._.  ._.  ._.  ._.  ._. \n",
      "Workspace in use: \"/Users/Julia/InstaPy\"\n"
     ]
    },
    {
     "name": "stderr",
     "output_type": "stream",
     "text": [
      "INFO [2020-12-15 16:41:20] [fntrails]  Session started!\n",
      "INFO [2020-12-15 16:41:20] [fntrails]  -- Connection Checklist [1/2] (Internet Connection Status)\n"
     ]
    },
    {
     "name": "stdout",
     "output_type": "stream",
     "text": [
      "OOOOOOOOOOOOOOOOOOOOOOOOOOOOOOOOOOOOOOOOOOOOOOOOOOOOOO\n",
      "oooooooooooooooooooooooooooooooooooooooooooooooooooooo\n"
     ]
    },
    {
     "name": "stderr",
     "output_type": "stream",
     "text": [
      "INFO [2020-12-15 16:41:21] [fntrails]  - Internet Connection Status: ok\n",
      "INFO [2020-12-15 16:41:21] [fntrails]  - Current IP is \"24.62.206.69\" and it's from \"United States/US\"\n",
      "INFO [2020-12-15 16:41:21] [fntrails]  -- Connection Checklist [2/2] (Hide Selenium Extension)\n",
      "INFO [2020-12-15 16:41:21] [fntrails]  - window.navigator.webdriver response: None\n",
      "INFO [2020-12-15 16:41:21] [fntrails]  - Hide Selenium Extension: ok\n",
      "INFO [2020-12-15 16:41:38] [fntrails]  Logged in successfully!\n",
      "INFO [2020-12-15 16:41:38] [fntrails]  Saving account progress...\n"
     ]
    },
    {
     "name": "stdout",
     "output_type": "stream",
     "text": [
      "..............................................................\n",
      "''''''''''''''''''''''''''''''''''''''''''''''''''''''''''''''\n"
     ]
    },
    {
     "name": "stderr",
     "output_type": "stream",
     "text": [
      "INFO [2020-12-15 16:41:51] [fntrails]  Tag [1/2]\n",
      "INFO [2020-12-15 16:41:51] [fntrails]  --> b'railtrail'\n",
      "INFO [2020-12-15 16:42:01] [fntrails]  desired amount: 14  |  top posts [disabled]: 9  |  possible posts: 109572\n",
      "INFO [2020-12-15 16:42:07] [fntrails]  Like# [1/14]\n",
      "INFO [2020-12-15 16:42:07] [fntrails]  https://www.instagram.com/p/CI1LHIcABKx/\n",
      "INFO [2020-12-15 16:42:10] [fntrails]  Image from: b'bhhs_adkpremierproperties'\n",
      "INFO [2020-12-15 16:42:10] [fntrails]  Link: b'https://www.instagram.com/p/CI1LHIcABKx/'\n",
      "INFO [2020-12-15 16:42:10] [fntrails]  Description: b'QUAINT ADIRONDACK COTTAGE\\n1 BED\\xf0\\x9f\\x94\\xb91 BATH\\xf0\\x9f\\x94\\xb9$84,900\\n\\nA quaint and well maintained one bedroom cottage which is centrally located between Lake Clear and the Saranac Lake area. This great location on the \\xe2\\x80\\x9ccoming soon Adirondack Rail Trail\\xe2\\x80\\x9d for all kinds of recreational opportunities will be ideal for outdoor enthusiasts.\\n\\n#bhhs #bhhsrealestate #lakeclear #lakeclearny #lakeclearrealestate #lakeclearhomes #saranaclake #saranaclakeny #saranaclakerealestate #saranaclakehomes #adirondack #adirondacks #adirondackmountains #adirondackrealestate #adirondackhomes #adirondackliving #adirondacklife #adkrealestate #adkhomes #adk #adks #adkmountains #adklife #realestate #homes #cottage #cottagestyle #nature #railtrail #adirondacksny'\n",
      "INFO [2020-12-15 16:43:10] [fntrails]  --> Image liked!\n",
      "INFO [2020-12-15 16:43:13] [fntrails]  --> Not commented\n",
      "INFO [2020-12-15 16:43:14] [fntrails]  --> Not following\n",
      "INFO [2020-12-15 16:43:15] [fntrails]  Like# [2/14]\n",
      "INFO [2020-12-15 16:43:15] [fntrails]  https://www.instagram.com/p/CI1Id1-lMvN/\n",
      "INFO [2020-12-15 16:43:18] [fntrails]  Image from: b'granitestatewalker'\n",
      "INFO [2020-12-15 16:43:18] [fntrails]  Link: b'https://www.instagram.com/p/CI1Id1-lMvN/'\n",
      "INFO [2020-12-15 16:43:18] [fntrails]  Description: b'For the win. #trailsign #railtrail #keepout #lawabidingcitizen'\n",
      "INFO [2020-12-15 16:43:18] [fntrails]  Location: b'Rockingham Recreational Trail'\n",
      "INFO [2020-12-15 16:44:16] [fntrails]  --> Image liked!\n",
      "INFO [2020-12-15 16:44:20] [fntrails]  --> Not commented\n",
      "INFO [2020-12-15 16:44:21] [fntrails]  --> Not following\n",
      "INFO [2020-12-15 16:44:22] [fntrails]  Like# [3/14]\n",
      "INFO [2020-12-15 16:44:22] [fntrails]  https://www.instagram.com/p/CI1B7CwBTwy/\n",
      "INFO [2020-12-15 16:44:24] [fntrails]  Image from: b'podocarpusphotography'\n",
      "INFO [2020-12-15 16:44:24] [fntrails]  Link: b'https://www.instagram.com/p/CI1B7CwBTwy/'\n",
      "INFO [2020-12-15 16:44:24] [fntrails]  Description: b'#dailyhike #railtrail #track #river #guelphtrails #hiking #wintervibes #seeninguelph #landscapephotography #podocarpusphotography'\n",
      "INFO [2020-12-15 16:44:24] [fntrails]  Location: b'Guelph, Ontario'\n",
      "INFO [2020-12-15 16:45:23] [fntrails]  --> Image liked!\n",
      "INFO [2020-12-15 16:45:27] [fntrails]  --> Not commented\n",
      "INFO [2020-12-15 16:45:28] [fntrails]  --> Not following\n",
      "INFO [2020-12-15 16:45:29] [fntrails]  Like# [4/14]\n",
      "INFO [2020-12-15 16:45:29] [fntrails]  https://www.instagram.com/p/CI1BSlKHf3-/\n",
      "INFO [2020-12-15 16:45:32] [fntrails]  Image from: b'duke0423'\n",
      "INFO [2020-12-15 16:45:32] [fntrails]  Link: b'https://www.instagram.com/p/CI1BSlKHf3-/'\n",
      "INFO [2020-12-15 16:45:32] [fntrails]  Description: b'Don\\xe2\\x80\\x99t waste today, use it to make the best of everything! #trails #railtrail #glenrockpa #imissnanda #mastiff #canecorsoofinstagram #pitbullsofinstagram #razorsedge #brindle #instaphoto #instalike #outdoors #freashair #cardio #trailwalk #newfreedompa #southernyorkpa #healthylifestyle'\n",
      "INFO [2020-12-15 16:45:32] [fntrails]  Location: b'New Freedom, Pennsylvania'\n",
      "INFO [2020-12-15 16:46:32] [fntrails]  --> Image liked!\n",
      "INFO [2020-12-15 16:46:35] [fntrails]  --> Not commented\n",
      "INFO [2020-12-15 16:46:36] [fntrails]  --> Not following\n",
      "INFO [2020-12-15 16:46:37] [fntrails]  Like# [5/14]\n",
      "INFO [2020-12-15 16:46:37] [fntrails]  https://www.instagram.com/p/CI0x-cphJtr/\n",
      "INFO [2020-12-15 16:46:40] [fntrails]  Image from: b'photo_house_v'\n",
      "INFO [2020-12-15 16:46:40] [fntrails]  Link: b'https://www.instagram.com/p/CI0x-cphJtr/'\n",
      "INFO [2020-12-15 16:46:40] [fntrails]  Description: b'#rail #railway  #railtrail  #trees #mountain #mountainphotography #hill #forest  #forestphotography #naturephotography #nature #cloudy #clouds #autmnvibes #autumnvibes\\xf0\\x9f\\x8d\\x81 #autumnphotography #winter #winteriscoming #wintervibes #sky #beutiful #greengrass #picture #art #usa #photographer #samsungphoto #samsungphotography #samsungnx #samsung'\n",
      "INFO [2020-12-15 16:48:02] [fntrails]  --> Image already liked!\n",
      "INFO [2020-12-15 16:48:02] [fntrails]  Like# [6/14]\n",
      "INFO [2020-12-15 16:48:02] [fntrails]  https://www.instagram.com/p/CI0wWu1g4gC/\n",
      "INFO [2020-12-15 16:48:05] [fntrails]  Image from: b'seniorcycling'\n",
      "INFO [2020-12-15 16:48:05] [fntrails]  Link: b'https://www.instagram.com/p/CI0wWu1g4gC/'\n",
      "INFO [2020-12-15 16:48:05] [fntrails]  Description: b\"Senior Cycling is ADVENTURE!\\xe2\\xa0\\x80\\nHave you ever wanted to go on a long bike tour, like across the state of Missouri? The Katy Trail runs 240 miles, almost the width of the state, and is our longest ride. We've had plenty of adventures on our Katy Trail bike tours!\\xe2\\xa0\\x80\\n\\xe2\\xa0\\x80\\nPhoto: Two of our riders on the award-winning Katy Trail.\\xe2\\xa0\\x80\\n#katytrail #biketrail #railtrail #bicycle #bicycling #biketour #adventuretravel #cycling\"\n"
     ]
    }
   ],
   "source": [
    "#!pip install instapy\n",
    "from instapy import InstaPy\n",
    "\n",
    "#InstaPy(username=\"fntrails\", password=\"b1k3z99\").login()\n",
    "session = InstaPy(username=\"fntrails\", password=\"b1k3z99\")\n",
    "#session = InstaPy(username='fntrails', password='b1k3z99', headless_browser=True)\n",
    "#headless browser makes the actual Instagram window disappear. Sometimes Instagram detects this\n",
    "\n",
    "session.login()\n",
    "session.like_by_tags([\"railtrail\", \"northamptonma\", \"climateaction\", \"sustainability\", \"bikeshop\", \"bikepath\"], amount=0.1, sleep_delay=600)\n",
    "session.set_dont_like([\"naked\", \"nsfw\", \"fuck\", \"shit\", \"bitch\", \"booty\", \"ass\", \"Trump\", \"Biden\", \"politics\", \"election\"])\n",
    " \n",
    "session.set_do_comment(True, percentage=10)\n",
    "session.set_comments([\"Love this!\", \":heart_eyes:\"])\n",
    "session.set_relationship_bounds(enabled=True, max_followers=8500)\n",
    "session.set_do_follow(True, percentage=10)\n",
    "session.set_quota_supervisor(enabled=True, peak_comments_daily=100, peak_comments_hourly=10)\n",
    "\n",
    "session.end()\n"
   ]
  },
  {
   "cell_type": "code",
   "execution_count": null,
   "metadata": {},
   "outputs": [],
   "source": []
  }
 ],
 "metadata": {
  "kernelspec": {
   "display_name": "Python 3",
   "language": "python",
   "name": "python3"
  },
  "language_info": {
   "codemirror_mode": {
    "name": "ipython",
    "version": 3
   },
   "file_extension": ".py",
   "mimetype": "text/x-python",
   "name": "python",
   "nbconvert_exporter": "python",
   "pygments_lexer": "ipython3",
   "version": "3.8.5"
  }
 },
 "nbformat": 4,
 "nbformat_minor": 4
}
