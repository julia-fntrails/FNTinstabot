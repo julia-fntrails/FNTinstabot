{
 "cells": [
  {
   "cell_type": "code",
   "execution_count": null,
   "metadata": {},
   "outputs": [],
   "source": [
    "#likes all the pics in our feed\n",
    "\n",
    "#!pip install instapy\n",
    "from instapy import InstaPy\n",
    "\n",
    "session = InstaPy(username=\"fntrails\", password=\"b1k3z99\")\n",
    "session.login()\n",
    "session.like_by_feed(amount=10, randomize=True, unfollow=False, interact=True)\n",
    "#interact=True visits the author's profile page of a certain post and likes a given\n",
    "# number of their pictures, then returns to feed\n",
    "\n",
    "\n"
   ]
  },
  {
   "cell_type": "code",
   "execution_count": null,
   "metadata": {},
   "outputs": [],
   "source": []
  }
 ],
 "metadata": {
  "kernelspec": {
   "display_name": "Python 3",
   "language": "python",
   "name": "python3"
  },
  "language_info": {
   "codemirror_mode": {
    "name": "ipython",
    "version": 3
   },
   "file_extension": ".py",
   "mimetype": "text/x-python",
   "name": "python",
   "nbconvert_exporter": "python",
   "pygments_lexer": "ipython3",
   "version": "3.8.5"
  }
 },
 "nbformat": 4,
 "nbformat_minor": 4
}
